{
  "nbformat": 4,
  "nbformat_minor": 0,
  "metadata": {
    "colab": {
      "name": "Chemical.ipynb",
      "provenance": []
    },
    "kernelspec": {
      "name": "python3",
      "display_name": "Python 3"
    },
    "accelerator": "GPU"
  },
  "cells": [
    {
      "cell_type": "code",
      "metadata": {
        "id": "ojLa7PdYUNBG",
        "colab_type": "code",
        "colab": {}
      },
      "source": [
        "import pandas as pd \n",
        "import numpy as np\n",
        "import seaborn as sns; sns.set()\n",
        "import matplotlib.pyplot as plt\n",
        "from sklearn.model_selection import train_test_split\n",
        "from sklearn.metrics import precision_recall_fscore_support as score\n",
        "from sklearn.metrics import confusion_matrix\n",
        "from sklearn.metrics import accuracy_score\n",
        "from sklearn.feature_selection import RFE\n",
        "from sklearn.svm import SVR\n",
        "from sklearn.metrics import roc_curve, auc\n",
        "from sklearn.metrics import accuracy_score, f1_score, precision_score, recall_score, classification_report, confusion_matrix"
      ],
      "execution_count": 0,
      "outputs": []
    },
    {
      "cell_type": "code",
      "metadata": {
        "id": "MfU_kKOXU74d",
        "colab_type": "code",
        "outputId": "b7687ad9-dbeb-43fa-a5f4-c37d6895bcb6",
        "colab": {
          "base_uri": "https://localhost:8080/",
          "height": 36
        }
      },
      "source": [
        "from google.colab import drive\n",
        "drive.mount('/content/drive')"
      ],
      "execution_count": 184,
      "outputs": [
        {
          "output_type": "stream",
          "text": [
            "Drive already mounted at /content/drive; to attempt to forcibly remount, call drive.mount(\"/content/drive\", force_remount=True).\n"
          ],
          "name": "stdout"
        }
      ]
    },
    {
      "cell_type": "code",
      "metadata": {
        "id": "17TheFMIU8qJ",
        "colab_type": "code",
        "outputId": "d9e16f5d-bcd1-44a2-c713-8f7508c5d173",
        "colab": {
          "base_uri": "https://localhost:8080/",
          "height": 129
        }
      },
      "source": [
        "import os\n",
        "os.listdir('/content/drive/My Drive/DataSet')"
      ],
      "execution_count": 185,
      "outputs": [
        {
          "output_type": "execute_result",
          "data": {
            "text/plain": [
              "['.ipynb_checkpoints',\n",
              " 'Untitled.ipynb',\n",
              " 'Test.csv',\n",
              " 'Train.csv',\n",
              " 'Sample_submission.csv',\n",
              " 'musk_csv.csv']"
            ]
          },
          "metadata": {
            "tags": []
          },
          "execution_count": 185
        }
      ]
    },
    {
      "cell_type": "code",
      "metadata": {
        "id": "fUR70lrRVicR",
        "colab_type": "code",
        "outputId": "d2213433-f20d-444d-dcc5-2291dc5cc5d2",
        "colab": {
          "base_uri": "https://localhost:8080/",
          "height": 129
        }
      },
      "source": [
        "data = pd.read_csv(\"/content/drive/My Drive/DataSet/musk_csv.csv\")\n",
        "print(data.columns)"
      ],
      "execution_count": 186,
      "outputs": [
        {
          "output_type": "stream",
          "text": [
            "Index(['ID', 'molecule_name', 'conformation_name', 'f1', 'f2', 'f3', 'f4',\n",
            "       'f5', 'f6', 'f7',\n",
            "       ...\n",
            "       'f158', 'f159', 'f160', 'f161', 'f162', 'f163', 'f164', 'f165', 'f166',\n",
            "       'class'],\n",
            "      dtype='object', length=170)\n"
          ],
          "name": "stdout"
        }
      ]
    },
    {
      "cell_type": "code",
      "metadata": {
        "id": "0CKl2cOFiZR8",
        "colab_type": "code",
        "outputId": "ef347306-9e26-4749-cecc-bb930ab9222e",
        "colab": {
          "base_uri": "https://localhost:8080/",
          "height": 241
        }
      },
      "source": [
        "data.isna().any()"
      ],
      "execution_count": 187,
      "outputs": [
        {
          "output_type": "execute_result",
          "data": {
            "text/plain": [
              "ID                   False\n",
              "molecule_name        False\n",
              "conformation_name    False\n",
              "f1                   False\n",
              "f2                   False\n",
              "                     ...  \n",
              "f163                 False\n",
              "f164                 False\n",
              "f165                 False\n",
              "f166                 False\n",
              "class                False\n",
              "Length: 170, dtype: bool"
            ]
          },
          "metadata": {
            "tags": []
          },
          "execution_count": 187
        }
      ]
    },
    {
      "cell_type": "code",
      "metadata": {
        "id": "l4YLu61iWBGR",
        "colab_type": "code",
        "colab": {}
      },
      "source": [
        "z=len(data['class'])\n",
        "c1=0\n",
        "c2=0\n",
        "for i in range(z):\n",
        "    if data['class'][i]==1:\n",
        "        c1+=1\n",
        "    else:\n",
        "        c2+=1"
      ],
      "execution_count": 0,
      "outputs": []
    },
    {
      "cell_type": "code",
      "metadata": {
        "id": "TncvQzqtWaIl",
        "colab_type": "code",
        "outputId": "5cb14a12-a009-4273-df12-a61669703dae",
        "colab": {
          "base_uri": "https://localhost:8080/",
          "height": 54
        }
      },
      "source": [
        "print(\"Total 0:\",c1)\n",
        "print(\"Total 1:\",c2)"
      ],
      "execution_count": 189,
      "outputs": [
        {
          "output_type": "stream",
          "text": [
            "Total 0: 1017\n",
            "Total 1: 5581\n"
          ],
          "name": "stdout"
        }
      ]
    },
    {
      "cell_type": "code",
      "metadata": {
        "id": "9tnjjFtGWbZp",
        "colab_type": "code",
        "outputId": "61b5520b-916b-4cd5-a735-9abc7a125179",
        "colab": {
          "base_uri": "https://localhost:8080/",
          "height": 54
        }
      },
      "source": [
        "total_rows=len(data.axes[0])\n",
        "total_cols=len(data.axes[1])\n",
        "print(\"Number of Rows: \"+str(total_rows))\n",
        "print(\"Number of Columns: \"+str(total_cols))"
      ],
      "execution_count": 190,
      "outputs": [
        {
          "output_type": "stream",
          "text": [
            "Number of Rows: 6598\n",
            "Number of Columns: 170\n"
          ],
          "name": "stdout"
        }
      ]
    },
    {
      "cell_type": "code",
      "metadata": {
        "id": "xaksFi_cWdap",
        "colab_type": "code",
        "colab": {}
      },
      "source": [
        "features = data.iloc[:,4:-1]  #independent columns\n",
        "labels =   data.iloc[:,-1] "
      ],
      "execution_count": 0,
      "outputs": []
    },
    {
      "cell_type": "code",
      "metadata": {
        "id": "VCqfeQqOgn15",
        "colab_type": "code",
        "outputId": "5ca63e6d-ce84-4ba2-d235-ccbf3f25a207",
        "colab": {
          "base_uri": "https://localhost:8080/",
          "height": 110
        }
      },
      "source": [
        "features_imp = data.iloc[:,10:20]  #independent column \n",
        "total_rows=len(features_imp.axes[0])\n",
        "total_cols=len(features_imp.axes[1])\n",
        "\n",
        "print(\"Number of Rows: \"+str(total_rows))\n",
        "print(\"Number of Columns: \"+str(total_cols))\n",
        "horizontal_stack = pd.concat([features_imp, labels], axis=1)\n",
        "print(horizontal_stack.columns)"
      ],
      "execution_count": 192,
      "outputs": [
        {
          "output_type": "stream",
          "text": [
            "Number of Rows: 6598\n",
            "Number of Columns: 10\n",
            "Index(['f8', 'f9', 'f10', 'f11', 'f12', 'f13', 'f14', 'f15', 'f16', 'f17',\n",
            "       'class'],\n",
            "      dtype='object')\n"
          ],
          "name": "stdout"
        }
      ]
    },
    {
      "cell_type": "code",
      "metadata": {
        "id": "pb2P7KZivVXl",
        "colab_type": "code",
        "outputId": "335b5f38-7972-45bc-fce6-49055a5e830a",
        "colab": {
          "base_uri": "https://localhost:8080/",
          "height": 598
        }
      },
      "source": [
        "f,ax = plt.subplots(figsize=(12,10))\n",
        "sns.heatmap(horizontal_stack.corr(),annot=True, linewidths=.1, fmt='.1f', ax=ax)\n",
        "plt.show()"
      ],
      "execution_count": 16,
      "outputs": [
        {
          "output_type": "display_data",
          "data": {
            "image/png": "[encoded data removed]",
            "text/plain": [
              "<Figure size 864x720 with 2 Axes>"
            ]
          },
          "metadata": {
            "tags": []
          }
        }
      ]
    },
    {
      "cell_type": "code",
      "metadata": {
        "id": "tMDUFg7s8gu1",
        "colab_type": "code",
        "colab": {}
      },
      "source": [
        "# Create correlation matrix\n",
        "corr_matrix = features.corr().abs()\n",
        "\n",
        "# Select upper triangle of correlation matrix\n",
        "upper = corr_matrix.where(np.triu(np.ones(corr_matrix.shape), k=1).astype(np.bool))\n",
        "\n",
        "# Find features with correlation greater than or eaual to 0.7\n",
        "to_drop = [column for column in upper.columns if any(upper[column] >= 0.7)]\n",
        "\n",
        "# Drop features \n",
        "features.drop(to_drop, axis=1, inplace=True)"
      ],
      "execution_count": 0,
      "outputs": []
    },
    {
      "cell_type": "code",
      "metadata": {
        "id": "CQD2gq5780vQ",
        "colab_type": "code",
        "outputId": "366bbe3c-c0bd-4a63-99f5-6d9f67b3d71b",
        "colab": {
          "base_uri": "https://localhost:8080/",
          "height": 148
        }
      },
      "source": [
        "print(features.columns)"
      ],
      "execution_count": 194,
      "outputs": [
        {
          "output_type": "stream",
          "text": [
            "Index(['f2', 'f3', 'f4', 'f5', 'f6', 'f8', 'f10', 'f12', 'f13', 'f16', 'f18',\n",
            "       'f20', 'f21', 'f24', 'f27', 'f28', 'f29', 'f31', 'f32', 'f33', 'f36',\n",
            "       'f37', 'f38', 'f42', 'f47', 'f55', 'f63', 'f67', 'f68', 'f69', 'f76',\n",
            "       'f84', 'f88', 'f92', 'f94', 'f95', 'f96', 'f107', 'f116', 'f124',\n",
            "       'f126', 'f132', 'f138', 'f145', 'f146', 'f147', 'f157', 'f158', 'f160',\n",
            "       'f161', 'f163', 'f164', 'f165', 'f166'],\n",
            "      dtype='object')\n"
          ],
          "name": "stdout"
        }
      ]
    },
    {
      "cell_type": "code",
      "metadata": {
        "id": "L2KpIy1S3ZbU",
        "colab_type": "code",
        "outputId": "723e68b7-7056-4990-983e-43026abba9b0",
        "colab": {
          "base_uri": "https://localhost:8080/",
          "height": 54
        }
      },
      "source": [
        "print(len(features.axes[0]))\n",
        "print(len(features.axes[1]))"
      ],
      "execution_count": 195,
      "outputs": [
        {
          "output_type": "stream",
          "text": [
            "6598\n",
            "54\n"
          ],
          "name": "stdout"
        }
      ]
    },
    {
      "cell_type": "code",
      "metadata": {
        "id": "jyfksxcIWffR",
        "colab_type": "code",
        "outputId": "0d400ebf-b071-4a1e-88d0-4ea40c3d4e58",
        "colab": {
          "base_uri": "https://localhost:8080/",
          "height": 325
        }
      },
      "source": [
        "import pandas as pd\n",
        "import numpy as np\n",
        "from sklearn.ensemble import ExtraTreesClassifier\n",
        "import matplotlib.pyplot as plt\n",
        "model = ExtraTreesClassifier()\n",
        "model.fit(features,labels)\n",
        "#plot graph of feature importances for better visualization\n",
        "feat_importances = pd.Series(model.feature_importances_, index=features.columns)\n",
        "feat_importances.nlargest(10).plot(kind='barh')\n",
        "plt.show()"
      ],
      "execution_count": 102,
      "outputs": [
        {
          "output_type": "stream",
          "text": [
            "/usr/local/lib/python3.6/dist-packages/sklearn/ensemble/forest.py:245: FutureWarning: The default value of n_estimators will change from 10 in version 0.20 to 100 in 0.22.\n",
            "  \"10 in version 0.20 to 100 in 0.22.\", FutureWarning)\n"
          ],
          "name": "stderr"
        },
        {
          "output_type": "display_data",
          "data": {
            "image/png": "[encoded data removed]",
            "text/plain": [
              "<Figure size 432x288 with 1 Axes>"
            ]
          },
          "metadata": {
            "tags": []
          }
        }
      ]
    },
    {
      "cell_type": "code",
      "metadata": {
        "id": "2RnfLiu-n_QC",
        "colab_type": "code",
        "colab": {}
      },
      "source": [
        "estimator = SVR(kernel=\"linear\")\n",
        "selector = RFE(estimator, 10, step=1)\n",
        "selector = selector.fit(features_imp,labels)\n",
        "print(selector.support_) \n",
        "print(selector.ranking_)"
      ],
      "execution_count": 0,
      "outputs": []
    },
    {
      "cell_type": "code",
      "metadata": {
        "id": "pKZd1WArIaxo",
        "colab_type": "code",
        "colab": {}
      },
      "source": [
        "from sklearn.preprocessing import scale"
      ],
      "execution_count": 0,
      "outputs": []
    },
    {
      "cell_type": "code",
      "metadata": {
        "id": "yv4mod_zWhtR",
        "colab_type": "code",
        "colab": {}
      },
      "source": [
        "X_train, y_test, X_labels, y_labels = train_test_split(features,\n",
        "                                                          labels,\n",
        "                                                          test_size=0.20,\n",
        "                                                          random_state=42)\n",
        "X_train=scale(X_train)\n",
        "y_test=scale(y_test)\n"
      ],
      "execution_count": 0,
      "outputs": []
    },
    {
      "cell_type": "code",
      "metadata": {
        "id": "TkbdrxL6Pmr0",
        "colab_type": "code",
        "colab": {
          "base_uri": "https://localhost:8080/",
          "height": 36
        },
        "outputId": "e5e113e0-dfa6-488d-bbea-371f21ce8a89"
      },
      "source": [
        "X_train.shape[0]"
      ],
      "execution_count": 198,
      "outputs": [
        {
          "output_type": "execute_result",
          "data": {
            "text/plain": [
              "5278"
            ]
          },
          "metadata": {
            "tags": []
          },
          "execution_count": 198
        }
      ]
    },
    {
      "cell_type": "code",
      "metadata": {
        "id": "1Tb7r5noSSmF",
        "colab_type": "code",
        "colab": {
          "base_uri": "https://localhost:8080/",
          "height": 297
        },
        "outputId": "4b7d001a-687a-497a-cb1d-f1aa4b951e69"
      },
      "source": [
        "from keras.models import Sequential\n",
        "from keras.layers import Dense\n",
        "import keras\n",
        "model = Sequential()\n",
        "model.add(Dense(12, input_dim=54, activation='relu'))\n",
        "model.add(Dense(8, activation='relu'))\n",
        "model.add(Dense(1, activation='sigmoid'))\n",
        "# compile the keras model\n",
        "model.compile(loss='binary_crossentropy', optimizer='adam', metrics=['accuracy'])\n",
        "print(model.summary())\n",
        "callback_early_stopping = keras.callbacks.EarlyStopping(monitor='val_loss', patience=10, verbose=0, mode='auto')"
      ],
      "execution_count": 246,
      "outputs": [
        {
          "output_type": "stream",
          "text": [
            "Model: \"sequential_31\"\n",
            "_________________________________________________________________\n",
            "Layer (type)                 Output Shape              Param #   \n",
            "=================================================================\n",
            "dense_99 (Dense)             (None, 12)                660       \n",
            "_________________________________________________________________\n",
            "dense_100 (Dense)            (None, 8)                 104       \n",
            "_________________________________________________________________\n",
            "dense_101 (Dense)            (None, 1)                 9         \n",
            "=================================================================\n",
            "Total params: 773\n",
            "Trainable params: 773\n",
            "Non-trainable params: 0\n",
            "_________________________________________________________________\n",
            "None\n"
          ],
          "name": "stdout"
        }
      ]
    },
    {
      "cell_type": "code",
      "metadata": {
        "id": "BrDLA36FcYUf",
        "colab_type": "code",
        "colab": {
          "base_uri": "https://localhost:8080/",
          "height": 1000
        },
        "outputId": "41debfde-6b2e-4a40-f42a-312d234aa292"
      },
      "source": [
        "import keras\n",
        "from matplotlib import pyplot as plt\n",
        "history = model.fit(X_train,  X_labels,validation_split = 0.1, epochs=150, batch_size=4)\n",
        "plt.plot(history.history['acc'])\n",
        "plt.plot(history.history['val_acc'])\n",
        "plt.title('model accuracy')\n",
        "plt.ylabel('accuracy')\n",
        "plt.xlabel('epoch')\n",
        "plt.legend(['train', 'val'], loc='upper left')\n",
        "plt.show()"
      ],
      "execution_count": 247,
      "outputs": [
        {
          "output_type": "stream",
          "text": [
            "Train on 4750 samples, validate on 528 samples\n",
            "Epoch 1/150\n",
            "4750/4750 [==============================] - 13s 3ms/step - loss: 0.2736 - acc: 0.8836 - val_loss: 0.2115 - val_acc: 0.9186\n",
            "Epoch 2/150\n",
            "4750/4750 [==============================] - 5s 1ms/step - loss: 0.1765 - acc: 0.9297 - val_loss: 0.1775 - val_acc: 0.9318\n",
            "Epoch 3/150\n",
            "4750/4750 [==============================] - 5s 1ms/step - loss: 0.1426 - acc: 0.9451 - val_loss: 0.1576 - val_acc: 0.9318\n",
            "Epoch 4/150\n",
            "4750/4750 [==============================] - 5s 1ms/step - loss: 0.1223 - acc: 0.9526 - val_loss: 0.1497 - val_acc: 0.9337\n",
            "Epoch 5/150\n",
            "4750/4750 [==============================] - 5s 1ms/step - loss: 0.1086 - acc: 0.9571 - val_loss: 0.1513 - val_acc: 0.9318\n",
            "Epoch 6/150\n",
            "4750/4750 [==============================] - 5s 1ms/step - loss: 0.0970 - acc: 0.9615 - val_loss: 0.1457 - val_acc: 0.9413\n",
            "Epoch 7/150\n",
            "4750/4750 [==============================] - 5s 1ms/step - loss: 0.0872 - acc: 0.9634 - val_loss: 0.1408 - val_acc: 0.9432\n",
            "Epoch 8/150\n",
            "4750/4750 [==============================] - 5s 1ms/step - loss: 0.0824 - acc: 0.9663 - val_loss: 0.1292 - val_acc: 0.9508\n",
            "Epoch 9/150\n",
            "4750/4750 [==============================] - 5s 1ms/step - loss: 0.0753 - acc: 0.9661 - val_loss: 0.1333 - val_acc: 0.9413\n",
            "Epoch 10/150\n",
            "4750/4750 [==============================] - 5s 1ms/step - loss: 0.0723 - acc: 0.9716 - val_loss: 0.1424 - val_acc: 0.9451\n",
            "Epoch 11/150\n",
            "4750/4750 [==============================] - 5s 1ms/step - loss: 0.0676 - acc: 0.9707 - val_loss: 0.1420 - val_acc: 0.9451\n",
            "Epoch 12/150\n",
            "4750/4750 [==============================] - 5s 1ms/step - loss: 0.0616 - acc: 0.9741 - val_loss: 0.1392 - val_acc: 0.9470\n",
            "Epoch 13/150\n",
            "4750/4750 [==============================] - 5s 1ms/step - loss: 0.0591 - acc: 0.9749 - val_loss: 0.1528 - val_acc: 0.9432\n",
            "Epoch 14/150\n",
            "4750/4750 [==============================] - 5s 1ms/step - loss: 0.0580 - acc: 0.9758 - val_loss: 0.1337 - val_acc: 0.9527\n",
            "Epoch 15/150\n",
            "4750/4750 [==============================] - 5s 1ms/step - loss: 0.0549 - acc: 0.9781 - val_loss: 0.1410 - val_acc: 0.9527\n",
            "Epoch 16/150\n",
            "4750/4750 [==============================] - 5s 1ms/step - loss: 0.0507 - acc: 0.9781 - val_loss: 0.1481 - val_acc: 0.9489\n",
            "Epoch 17/150\n",
            "4750/4750 [==============================] - 5s 1ms/step - loss: 0.0513 - acc: 0.9794 - val_loss: 0.1530 - val_acc: 0.9375\n",
            "Epoch 18/150\n",
            "4750/4750 [==============================] - 5s 1ms/step - loss: 0.0478 - acc: 0.9802 - val_loss: 0.1583 - val_acc: 0.9470\n",
            "Epoch 19/150\n",
            "4750/4750 [==============================] - 5s 1ms/step - loss: 0.0465 - acc: 0.9798 - val_loss: 0.1718 - val_acc: 0.9470\n",
            "Epoch 20/150\n",
            "4750/4750 [==============================] - 5s 1ms/step - loss: 0.0440 - acc: 0.9821 - val_loss: 0.1483 - val_acc: 0.9489\n",
            "Epoch 21/150\n",
            "4750/4750 [==============================] - 5s 1ms/step - loss: 0.0442 - acc: 0.9821 - val_loss: 0.1778 - val_acc: 0.9451\n",
            "Epoch 22/150\n",
            "4750/4750 [==============================] - 5s 1ms/step - loss: 0.0432 - acc: 0.9817 - val_loss: 0.1479 - val_acc: 0.9545\n",
            "Epoch 23/150\n",
            "4750/4750 [==============================] - 5s 1ms/step - loss: 0.0394 - acc: 0.9836 - val_loss: 0.1585 - val_acc: 0.9545\n",
            "Epoch 24/150\n",
            "4750/4750 [==============================] - 5s 1ms/step - loss: 0.0397 - acc: 0.9836 - val_loss: 0.1757 - val_acc: 0.9470\n",
            "Epoch 25/150\n",
            "4750/4750 [==============================] - 5s 1ms/step - loss: 0.0391 - acc: 0.9823 - val_loss: 0.1911 - val_acc: 0.9451\n",
            "Epoch 26/150\n",
            "4750/4750 [==============================] - 5s 1ms/step - loss: 0.0358 - acc: 0.9838 - val_loss: 0.1899 - val_acc: 0.9432\n",
            "Epoch 27/150\n",
            "4750/4750 [==============================] - 5s 1ms/step - loss: 0.0341 - acc: 0.9859 - val_loss: 0.1729 - val_acc: 0.9508\n",
            "Epoch 28/150\n",
            "4750/4750 [==============================] - 5s 1ms/step - loss: 0.0350 - acc: 0.9834 - val_loss: 0.1762 - val_acc: 0.9489\n",
            "Epoch 29/150\n",
            "4750/4750 [==============================] - 5s 1ms/step - loss: 0.0327 - acc: 0.9855 - val_loss: 0.1833 - val_acc: 0.9527\n",
            "Epoch 30/150\n",
            "4750/4750 [==============================] - 5s 1ms/step - loss: 0.0324 - acc: 0.9867 - val_loss: 0.1868 - val_acc: 0.9489\n",
            "Epoch 31/150\n",
            "4750/4750 [==============================] - 5s 1ms/step - loss: 0.0319 - acc: 0.9861 - val_loss: 0.2003 - val_acc: 0.9527\n",
            "Epoch 32/150\n",
            "4750/4750 [==============================] - 5s 1ms/step - loss: 0.0304 - acc: 0.9861 - val_loss: 0.1796 - val_acc: 0.9508\n",
            "Epoch 33/150\n",
            "4750/4750 [==============================] - 5s 1ms/step - loss: 0.0326 - acc: 0.9859 - val_loss: 0.1865 - val_acc: 0.9508\n",
            "Epoch 34/150\n",
            "4750/4750 [==============================] - 5s 1ms/step - loss: 0.0276 - acc: 0.9886 - val_loss: 0.1992 - val_acc: 0.9489\n",
            "Epoch 35/150\n",
            "4750/4750 [==============================] - 5s 1ms/step - loss: 0.0261 - acc: 0.9899 - val_loss: 0.1940 - val_acc: 0.9489\n",
            "Epoch 36/150\n",
            "4750/4750 [==============================] - 5s 1ms/step - loss: 0.0273 - acc: 0.9869 - val_loss: 0.2034 - val_acc: 0.9470\n",
            "Epoch 37/150\n",
            "4750/4750 [==============================] - 5s 1ms/step - loss: 0.0253 - acc: 0.9897 - val_loss: 0.2068 - val_acc: 0.9489\n",
            "Epoch 38/150\n",
            "4750/4750 [==============================] - 5s 1ms/step - loss: 0.0244 - acc: 0.9897 - val_loss: 0.2025 - val_acc: 0.9564\n",
            "Epoch 39/150\n",
            "4750/4750 [==============================] - 5s 1ms/step - loss: 0.0244 - acc: 0.9907 - val_loss: 0.2003 - val_acc: 0.9489\n",
            "Epoch 40/150\n",
            "4750/4750 [==============================] - 5s 1ms/step - loss: 0.0235 - acc: 0.9909 - val_loss: 0.1949 - val_acc: 0.9508\n",
            "Epoch 41/150\n",
            "4750/4750 [==============================] - 5s 1ms/step - loss: 0.0220 - acc: 0.9914 - val_loss: 0.2049 - val_acc: 0.9527\n",
            "Epoch 42/150\n",
            "4750/4750 [==============================] - 5s 1ms/step - loss: 0.0230 - acc: 0.9891 - val_loss: 0.2190 - val_acc: 0.9470\n",
            "Epoch 43/150\n",
            "4750/4750 [==============================] - 5s 1ms/step - loss: 0.0229 - acc: 0.9907 - val_loss: 0.1946 - val_acc: 0.9527\n",
            "Epoch 44/150\n",
            "4750/4750 [==============================] - 5s 1ms/step - loss: 0.0219 - acc: 0.9905 - val_loss: 0.2188 - val_acc: 0.9489\n",
            "Epoch 45/150\n",
            "4750/4750 [==============================] - 5s 1ms/step - loss: 0.0213 - acc: 0.9903 - val_loss: 0.2276 - val_acc: 0.9508\n",
            "Epoch 46/150\n",
            "4750/4750 [==============================] - 5s 1ms/step - loss: 0.0204 - acc: 0.9901 - val_loss: 0.1931 - val_acc: 0.9564\n",
            "Epoch 47/150\n",
            "4750/4750 [==============================] - 5s 1ms/step - loss: 0.0200 - acc: 0.9922 - val_loss: 0.2195 - val_acc: 0.9508\n",
            "Epoch 48/150\n",
            "4750/4750 [==============================] - 5s 1ms/step - loss: 0.0206 - acc: 0.9907 - val_loss: 0.2204 - val_acc: 0.9527\n",
            "Epoch 49/150\n",
            "4750/4750 [==============================] - 5s 1ms/step - loss: 0.0233 - acc: 0.9909 - val_loss: 0.2086 - val_acc: 0.9508\n",
            "Epoch 50/150\n",
            "4750/4750 [==============================] - 5s 1ms/step - loss: 0.0189 - acc: 0.9931 - val_loss: 0.2025 - val_acc: 0.9489\n",
            "Epoch 51/150\n",
            "4750/4750 [==============================] - 5s 1ms/step - loss: 0.0171 - acc: 0.9926 - val_loss: 0.2053 - val_acc: 0.9545\n",
            "Epoch 52/150\n",
            "4750/4750 [==============================] - 5s 1ms/step - loss: 0.0189 - acc: 0.9931 - val_loss: 0.2097 - val_acc: 0.9451\n",
            "Epoch 53/150\n",
            "4750/4750 [==============================] - 5s 1ms/step - loss: 0.0191 - acc: 0.9920 - val_loss: 0.1951 - val_acc: 0.9583\n",
            "Epoch 54/150\n",
            "4750/4750 [==============================] - 5s 1ms/step - loss: 0.0208 - acc: 0.9926 - val_loss: 0.2093 - val_acc: 0.9545\n",
            "Epoch 55/150\n",
            "4750/4750 [==============================] - 5s 1ms/step - loss: 0.0169 - acc: 0.9922 - val_loss: 0.1962 - val_acc: 0.9564\n",
            "Epoch 56/150\n",
            "4750/4750 [==============================] - 5s 1ms/step - loss: 0.0162 - acc: 0.9928 - val_loss: 0.2136 - val_acc: 0.9545\n",
            "Epoch 57/150\n",
            "4750/4750 [==============================] - 5s 1ms/step - loss: 0.0164 - acc: 0.9943 - val_loss: 0.1981 - val_acc: 0.9602\n",
            "Epoch 58/150\n",
            "4750/4750 [==============================] - 5s 1ms/step - loss: 0.0176 - acc: 0.9924 - val_loss: 0.2144 - val_acc: 0.9545\n",
            "Epoch 59/150\n",
            "4750/4750 [==============================] - 5s 1ms/step - loss: 0.0185 - acc: 0.9924 - val_loss: 0.2226 - val_acc: 0.9564\n",
            "Epoch 60/150\n",
            "4750/4750 [==============================] - 5s 1ms/step - loss: 0.0134 - acc: 0.9945 - val_loss: 0.2159 - val_acc: 0.9489\n",
            "Epoch 61/150\n",
            "4750/4750 [==============================] - 5s 1ms/step - loss: 0.0150 - acc: 0.9943 - val_loss: 0.2281 - val_acc: 0.9527\n",
            "Epoch 62/150\n",
            "4750/4750 [==============================] - 5s 1ms/step - loss: 0.0158 - acc: 0.9943 - val_loss: 0.2153 - val_acc: 0.9545\n",
            "Epoch 63/150\n",
            "4750/4750 [==============================] - 5s 1ms/step - loss: 0.0160 - acc: 0.9945 - val_loss: 0.1887 - val_acc: 0.9564\n",
            "Epoch 64/150\n",
            "4750/4750 [==============================] - 5s 1ms/step - loss: 0.0184 - acc: 0.9935 - val_loss: 0.2219 - val_acc: 0.9527\n",
            "Epoch 65/150\n",
            "4750/4750 [==============================] - 5s 1ms/step - loss: 0.0150 - acc: 0.9945 - val_loss: 0.1729 - val_acc: 0.9564\n",
            "Epoch 66/150\n",
            "4750/4750 [==============================] - 5s 1ms/step - loss: 0.0120 - acc: 0.9958 - val_loss: 0.1956 - val_acc: 0.9527\n",
            "Epoch 67/150\n",
            "4750/4750 [==============================] - 5s 1ms/step - loss: 0.0124 - acc: 0.9949 - val_loss: 0.2096 - val_acc: 0.9545\n",
            "Epoch 68/150\n",
            "4750/4750 [==============================] - 5s 1ms/step - loss: 0.0164 - acc: 0.9939 - val_loss: 0.2202 - val_acc: 0.9489\n",
            "Epoch 69/150\n",
            "4750/4750 [==============================] - 5s 1ms/step - loss: 0.0114 - acc: 0.9954 - val_loss: 0.2268 - val_acc: 0.9508\n",
            "Epoch 70/150\n",
            "4750/4750 [==============================] - 5s 1ms/step - loss: 0.0190 - acc: 0.9916 - val_loss: 0.2214 - val_acc: 0.9564\n",
            "Epoch 71/150\n",
            "4750/4750 [==============================] - 5s 1ms/step - loss: 0.0124 - acc: 0.9960 - val_loss: 0.2113 - val_acc: 0.9545\n",
            "Epoch 72/150\n",
            "4750/4750 [==============================] - 5s 1ms/step - loss: 0.0150 - acc: 0.9949 - val_loss: 0.2005 - val_acc: 0.9583\n",
            "Epoch 73/150\n",
            "4750/4750 [==============================] - 5s 1ms/step - loss: 0.0108 - acc: 0.9960 - val_loss: 0.2128 - val_acc: 0.9545\n",
            "Epoch 74/150\n",
            "4750/4750 [==============================] - 5s 1ms/step - loss: 0.0119 - acc: 0.9952 - val_loss: 0.2178 - val_acc: 0.9489\n",
            "Epoch 75/150\n",
            "4750/4750 [==============================] - 5s 1ms/step - loss: 0.0134 - acc: 0.9943 - val_loss: 0.2556 - val_acc: 0.9451\n",
            "Epoch 76/150\n",
            "4750/4750 [==============================] - 5s 1ms/step - loss: 0.0122 - acc: 0.9966 - val_loss: 0.2713 - val_acc: 0.9508\n",
            "Epoch 77/150\n",
            "4750/4750 [==============================] - 5s 1ms/step - loss: 0.0132 - acc: 0.9952 - val_loss: 0.2618 - val_acc: 0.9583\n",
            "Epoch 78/150\n",
            "4750/4750 [==============================] - 5s 1ms/step - loss: 0.0131 - acc: 0.9949 - val_loss: 0.2428 - val_acc: 0.9508\n",
            "Epoch 79/150\n",
            "4750/4750 [==============================] - 5s 1ms/step - loss: 0.0168 - acc: 0.9931 - val_loss: 0.2475 - val_acc: 0.9602\n",
            "Epoch 80/150\n",
            "4750/4750 [==============================] - 5s 1ms/step - loss: 0.0090 - acc: 0.9966 - val_loss: 0.2465 - val_acc: 0.9527\n",
            "Epoch 81/150\n",
            "4750/4750 [==============================] - 5s 1ms/step - loss: 0.0112 - acc: 0.9952 - val_loss: 0.2362 - val_acc: 0.9545\n",
            "Epoch 82/150\n",
            "4750/4750 [==============================] - 5s 1ms/step - loss: 0.0138 - acc: 0.9941 - val_loss: 0.2489 - val_acc: 0.9432\n",
            "Epoch 83/150\n",
            "4750/4750 [==============================] - 5s 1ms/step - loss: 0.0133 - acc: 0.9949 - val_loss: 0.2496 - val_acc: 0.9545\n",
            "Epoch 84/150\n",
            "4750/4750 [==============================] - 5s 1ms/step - loss: 0.0109 - acc: 0.9956 - val_loss: 0.2443 - val_acc: 0.9489\n",
            "Epoch 85/150\n",
            "4750/4750 [==============================] - 5s 1ms/step - loss: 0.0114 - acc: 0.9954 - val_loss: 0.2340 - val_acc: 0.9564\n",
            "Epoch 86/150\n",
            "4750/4750 [==============================] - 5s 1ms/step - loss: 0.0128 - acc: 0.9939 - val_loss: 0.2464 - val_acc: 0.9564\n",
            "Epoch 87/150\n",
            "4750/4750 [==============================] - 5s 1ms/step - loss: 0.0103 - acc: 0.9956 - val_loss: 0.2597 - val_acc: 0.9564\n",
            "Epoch 88/150\n",
            "4750/4750 [==============================] - 5s 1ms/step - loss: 0.0090 - acc: 0.9966 - val_loss: 0.2586 - val_acc: 0.9564\n",
            "Epoch 89/150\n",
            "4750/4750 [==============================] - 5s 1ms/step - loss: 0.0132 - acc: 0.9945 - val_loss: 0.2732 - val_acc: 0.9527\n",
            "Epoch 90/150\n",
            "4750/4750 [==============================] - 5s 1ms/step - loss: 0.0153 - acc: 0.9949 - val_loss: 0.2233 - val_acc: 0.9583\n",
            "Epoch 91/150\n",
            "4750/4750 [==============================] - 5s 1ms/step - loss: 0.0091 - acc: 0.9966 - val_loss: 0.2808 - val_acc: 0.9489\n",
            "Epoch 92/150\n",
            "4750/4750 [==============================] - 5s 1ms/step - loss: 0.0145 - acc: 0.9935 - val_loss: 0.2345 - val_acc: 0.9602\n",
            "Epoch 93/150\n",
            "4750/4750 [==============================] - 5s 1ms/step - loss: 0.0079 - acc: 0.9975 - val_loss: 0.2252 - val_acc: 0.9583\n",
            "Epoch 94/150\n",
            "4750/4750 [==============================] - 5s 1ms/step - loss: 0.0086 - acc: 0.9966 - val_loss: 0.2864 - val_acc: 0.9489\n",
            "Epoch 95/150\n",
            "4750/4750 [==============================] - 5s 1ms/step - loss: 0.0110 - acc: 0.9956 - val_loss: 0.2625 - val_acc: 0.9545\n",
            "Epoch 96/150\n",
            "4750/4750 [==============================] - 5s 1ms/step - loss: 0.0097 - acc: 0.9964 - val_loss: 0.2698 - val_acc: 0.9489\n",
            "Epoch 97/150\n",
            "4750/4750 [==============================] - 5s 1ms/step - loss: 0.0117 - acc: 0.9952 - val_loss: 0.3041 - val_acc: 0.9489\n",
            "Epoch 98/150\n",
            "4750/4750 [==============================] - 5s 1ms/step - loss: 0.0115 - acc: 0.9952 - val_loss: 0.2150 - val_acc: 0.9602\n",
            "Epoch 99/150\n",
            "4750/4750 [==============================] - 5s 1ms/step - loss: 0.0079 - acc: 0.9971 - val_loss: 0.2270 - val_acc: 0.9583\n",
            "Epoch 100/150\n",
            "4750/4750 [==============================] - 5s 1ms/step - loss: 0.0117 - acc: 0.9960 - val_loss: 0.2530 - val_acc: 0.9564\n",
            "Epoch 101/150\n",
            "4750/4750 [==============================] - 5s 1ms/step - loss: 0.0137 - acc: 0.9952 - val_loss: 0.2729 - val_acc: 0.9508\n",
            "Epoch 102/150\n",
            "4750/4750 [==============================] - 5s 1ms/step - loss: 0.0087 - acc: 0.9964 - val_loss: 0.2446 - val_acc: 0.9602\n",
            "Epoch 103/150\n",
            "4750/4750 [==============================] - 5s 1ms/step - loss: 0.0103 - acc: 0.9958 - val_loss: 0.2611 - val_acc: 0.9564\n",
            "Epoch 104/150\n",
            "4750/4750 [==============================] - 5s 1ms/step - loss: 0.0080 - acc: 0.9964 - val_loss: 0.2342 - val_acc: 0.9659\n",
            "Epoch 105/150\n",
            "4750/4750 [==============================] - 5s 1ms/step - loss: 0.0085 - acc: 0.9979 - val_loss: 0.2363 - val_acc: 0.9583\n",
            "Epoch 106/150\n",
            "4750/4750 [==============================] - 5s 1ms/step - loss: 0.0102 - acc: 0.9956 - val_loss: 0.2227 - val_acc: 0.9640\n",
            "Epoch 107/150\n",
            "4750/4750 [==============================] - 5s 1ms/step - loss: 0.0093 - acc: 0.9968 - val_loss: 0.2279 - val_acc: 0.9489\n",
            "Epoch 108/150\n",
            "4750/4750 [==============================] - 5s 1ms/step - loss: 0.0118 - acc: 0.9956 - val_loss: 0.2295 - val_acc: 0.9564\n",
            "Epoch 109/150\n",
            "4750/4750 [==============================] - 5s 1ms/step - loss: 0.0080 - acc: 0.9971 - val_loss: 0.2551 - val_acc: 0.9564\n",
            "Epoch 110/150\n",
            "4750/4750 [==============================] - 5s 1ms/step - loss: 0.0110 - acc: 0.9958 - val_loss: 0.2346 - val_acc: 0.9621\n",
            "Epoch 111/150\n",
            "4750/4750 [==============================] - 5s 1ms/step - loss: 0.0070 - acc: 0.9977 - val_loss: 0.2792 - val_acc: 0.9564\n",
            "Epoch 112/150\n",
            "4750/4750 [==============================] - 5s 1ms/step - loss: 0.0096 - acc: 0.9960 - val_loss: 0.2487 - val_acc: 0.9489\n",
            "Epoch 113/150\n",
            "4750/4750 [==============================] - 5s 1ms/step - loss: 0.0137 - acc: 0.9966 - val_loss: 0.2418 - val_acc: 0.9583\n",
            "Epoch 114/150\n",
            "4750/4750 [==============================] - 5s 1ms/step - loss: 0.0086 - acc: 0.9971 - val_loss: 0.2530 - val_acc: 0.9583\n",
            "Epoch 115/150\n",
            "4750/4750 [==============================] - 5s 1ms/step - loss: 0.0080 - acc: 0.9966 - val_loss: 0.2559 - val_acc: 0.9583\n",
            "Epoch 116/150\n",
            "4750/4750 [==============================] - 5s 1ms/step - loss: 0.0090 - acc: 0.9960 - val_loss: 0.2945 - val_acc: 0.9508\n",
            "Epoch 117/150\n",
            "4750/4750 [==============================] - 5s 1ms/step - loss: 0.0115 - acc: 0.9962 - val_loss: 0.2472 - val_acc: 0.9640\n",
            "Epoch 118/150\n",
            "4750/4750 [==============================] - 5s 1ms/step - loss: 0.0074 - acc: 0.9973 - val_loss: 0.2530 - val_acc: 0.9602\n",
            "Epoch 119/150\n",
            "4750/4750 [==============================] - 5s 1ms/step - loss: 0.0116 - acc: 0.9962 - val_loss: 0.2415 - val_acc: 0.9621\n",
            "Epoch 120/150\n",
            "4750/4750 [==============================] - 5s 1ms/step - loss: 0.0072 - acc: 0.9968 - val_loss: 0.2577 - val_acc: 0.9583\n",
            "Epoch 121/150\n",
            "4750/4750 [==============================] - 5s 1ms/step - loss: 0.0063 - acc: 0.9973 - val_loss: 0.2407 - val_acc: 0.9602\n",
            "Epoch 122/150\n",
            "4750/4750 [==============================] - 5s 1ms/step - loss: 0.0136 - acc: 0.9964 - val_loss: 0.2539 - val_acc: 0.9527\n",
            "Epoch 123/150\n",
            "4750/4750 [==============================] - 5s 1ms/step - loss: 0.0102 - acc: 0.9962 - val_loss: 0.2513 - val_acc: 0.9621\n",
            "Epoch 124/150\n",
            "4750/4750 [==============================] - 5s 1ms/step - loss: 0.0100 - acc: 0.9960 - val_loss: 0.2669 - val_acc: 0.9564\n",
            "Epoch 125/150\n",
            "4750/4750 [==============================] - 5s 1ms/step - loss: 0.0055 - acc: 0.9973 - val_loss: 0.2481 - val_acc: 0.9621\n",
            "Epoch 126/150\n",
            "4750/4750 [==============================] - 5s 1ms/step - loss: 0.0070 - acc: 0.9973 - val_loss: 0.2512 - val_acc: 0.9564\n",
            "Epoch 127/150\n",
            "4750/4750 [==============================] - 5s 1ms/step - loss: 0.0079 - acc: 0.9966 - val_loss: 0.2674 - val_acc: 0.9564\n",
            "Epoch 128/150\n",
            "4750/4750 [==============================] - 5s 1ms/step - loss: 0.0068 - acc: 0.9973 - val_loss: 0.2687 - val_acc: 0.9621\n",
            "Epoch 129/150\n",
            "4750/4750 [==============================] - 5s 1ms/step - loss: 0.0064 - acc: 0.9979 - val_loss: 0.2815 - val_acc: 0.9545\n",
            "Epoch 130/150\n",
            "4750/4750 [==============================] - 5s 1ms/step - loss: 0.0092 - acc: 0.9968 - val_loss: 0.2777 - val_acc: 0.9470\n",
            "Epoch 131/150\n",
            "4750/4750 [==============================] - 5s 1ms/step - loss: 0.0082 - acc: 0.9964 - val_loss: 0.2936 - val_acc: 0.9451\n",
            "Epoch 132/150\n",
            "4750/4750 [==============================] - 5s 1ms/step - loss: 0.0102 - acc: 0.9954 - val_loss: 0.2302 - val_acc: 0.9583\n",
            "Epoch 133/150\n",
            "4750/4750 [==============================] - 5s 1ms/step - loss: 0.0051 - acc: 0.9987 - val_loss: 0.2363 - val_acc: 0.9621\n",
            "Epoch 134/150\n",
            "4750/4750 [==============================] - 5s 1ms/step - loss: 0.0040 - acc: 0.9992 - val_loss: 0.2456 - val_acc: 0.9583\n",
            "Epoch 135/150\n",
            "4750/4750 [==============================] - 5s 1ms/step - loss: 0.0070 - acc: 0.9977 - val_loss: 0.2538 - val_acc: 0.9583\n",
            "Epoch 136/150\n",
            "4750/4750 [==============================] - 5s 1ms/step - loss: 0.0091 - acc: 0.9973 - val_loss: 0.2547 - val_acc: 0.9583\n",
            "Epoch 137/150\n",
            "4750/4750 [==============================] - 5s 1ms/step - loss: 0.0093 - acc: 0.9968 - val_loss: 0.2950 - val_acc: 0.9545\n",
            "Epoch 138/150\n",
            "4750/4750 [==============================] - 5s 1ms/step - loss: 0.0064 - acc: 0.9979 - val_loss: 0.2659 - val_acc: 0.9564\n",
            "Epoch 139/150\n",
            "4750/4750 [==============================] - 5s 1ms/step - loss: 0.0066 - acc: 0.9973 - val_loss: 0.2454 - val_acc: 0.9602\n",
            "Epoch 140/150\n",
            "4750/4750 [==============================] - 5s 1ms/step - loss: 0.0087 - acc: 0.9960 - val_loss: 0.2287 - val_acc: 0.9564\n",
            "Epoch 141/150\n",
            "4750/4750 [==============================] - 5s 1ms/step - loss: 0.0048 - acc: 0.9989 - val_loss: 0.2601 - val_acc: 0.9583\n",
            "Epoch 142/150\n",
            "4750/4750 [==============================] - 5s 1ms/step - loss: 0.0067 - acc: 0.9973 - val_loss: 0.2774 - val_acc: 0.9621\n",
            "Epoch 143/150\n",
            "4750/4750 [==============================] - 5s 1ms/step - loss: 0.0062 - acc: 0.9971 - val_loss: 0.2752 - val_acc: 0.9640\n",
            "Epoch 144/150\n",
            "4750/4750 [==============================] - 5s 1ms/step - loss: 0.0069 - acc: 0.9981 - val_loss: 0.3140 - val_acc: 0.9545\n",
            "Epoch 145/150\n",
            "4750/4750 [==============================] - 5s 1ms/step - loss: 0.0165 - acc: 0.9947 - val_loss: 0.2683 - val_acc: 0.9602\n",
            "Epoch 146/150\n",
            "4750/4750 [==============================] - 5s 1ms/step - loss: 0.0044 - acc: 0.9989 - val_loss: 0.2577 - val_acc: 0.9621\n",
            "Epoch 147/150\n",
            "4750/4750 [==============================] - 5s 1ms/step - loss: 0.0067 - acc: 0.9979 - val_loss: 0.2902 - val_acc: 0.9583\n",
            "Epoch 148/150\n",
            "4750/4750 [==============================] - 5s 1ms/step - loss: 0.0070 - acc: 0.9981 - val_loss: 0.2741 - val_acc: 0.9508\n",
            "Epoch 149/150\n",
            "4750/4750 [==============================] - 5s 1ms/step - loss: 0.0053 - acc: 0.9977 - val_loss: 0.2816 - val_acc: 0.9583\n",
            "Epoch 150/150\n",
            "4750/4750 [==============================] - 5s 1ms/step - loss: 0.0103 - acc: 0.9971 - val_loss: 0.3128 - val_acc: 0.9545\n"
          ],
          "name": "stdout"
        },
        {
          "output_type": "display_data",
          "data": {
            "image/png": "[encoded data removed]",
            "text/plain": [
              "<Figure size 432x288 with 1 Axes>"
            ]
          },
          "metadata": {
            "tags": []
          }
        }
      ]
    },
    {
      "cell_type": "code",
      "metadata": {
        "id": "W1wH8_p2dUvy",
        "colab_type": "code",
        "colab": {
          "base_uri": "https://localhost:8080/",
          "height": 301
        },
        "outputId": "52f37875-5683-4343-8ec2-2ef934987411"
      },
      "source": [
        "plt.plot(history.history['loss'])\n",
        "plt.plot(history.history['val_loss'])\n",
        "plt.title('model loss')\n",
        "plt.ylabel('loss')\n",
        "plt.xlabel('epoch')\n",
        "plt.legend(['train', 'val'], loc='upper left')\n",
        "plt.show()"
      ],
      "execution_count": 248,
      "outputs": [
        {
          "output_type": "display_data",
          "data": {
            "image/png": "[encoded data removed]",
            "text/plain": [
              "<Figure size 432x288 with 1 Axes>"
            ]
          },
          "metadata": {
            "tags": []
          }
        }
      ]
    },
    {
      "cell_type": "code",
      "metadata": {
        "id": "YQC4k7VpaNzP",
        "colab_type": "code",
        "colab": {}
      },
      "source": [
        "y_pred = model.predict(y_test)"
      ],
      "execution_count": 0,
      "outputs": []
    },
    {
      "cell_type": "code",
      "metadata": {
        "id": "ykW5EJTUagVJ",
        "colab_type": "code",
        "colab": {
          "base_uri": "https://localhost:8080/",
          "height": 36
        },
        "outputId": "9713a03c-7055-4a5b-d640-f14399e2d80b"
      },
      "source": [
        "print(len(y_pred))"
      ],
      "execution_count": 250,
      "outputs": [
        {
          "output_type": "stream",
          "text": [
            "1320\n"
          ],
          "name": "stdout"
        }
      ]
    },
    {
      "cell_type": "code",
      "metadata": {
        "id": "vq0qs8Q3i_74",
        "colab_type": "code",
        "colab": {
          "base_uri": "https://localhost:8080/",
          "height": 148
        },
        "outputId": "eaebf215-7399-402e-9ac6-44ad3851e041"
      },
      "source": [
        "y_pred"
      ],
      "execution_count": 251,
      "outputs": [
        {
          "output_type": "execute_result",
          "data": {
            "text/plain": [
              "array([[0.000000e+00],\n",
              "       [0.000000e+00],\n",
              "       [7.662177e-05],\n",
              "       ...,\n",
              "       [0.000000e+00],\n",
              "       [0.000000e+00],\n",
              "       [0.000000e+00]], dtype=float32)"
            ]
          },
          "metadata": {
            "tags": []
          },
          "execution_count": 251
        }
      ]
    },
    {
      "cell_type": "code",
      "metadata": {
        "id": "kquOfd48zeaV",
        "colab_type": "code",
        "colab": {}
      },
      "source": [
        "for i in range(len(y_pred)):\n",
        "  if(y_pred[i]>0.5):\n",
        "    y_pred[i]=1\n",
        "  else:\n",
        "    y_pred[i]=0"
      ],
      "execution_count": 0,
      "outputs": []
    },
    {
      "cell_type": "code",
      "metadata": {
        "id": "y_9BSsbzk4Ga",
        "colab_type": "code",
        "colab": {
          "base_uri": "https://localhost:8080/",
          "height": 129
        },
        "outputId": "07ccff6a-6232-4274-c53d-fdc9fc4302be"
      },
      "source": [
        "print(\"prediciton accuracy:\",accuracy_score(y_labels,y_pred))\n",
        "print(\"f1_Score:\",f1_score(y_labels,y_pred, average=\"macro\"))\n",
        "print(\"precision_score:\",precision_score(y_labels,y_pred, average=\"macro\"))\n",
        "print(\"recall_score:\",recall_score(y_labels,y_pred, average=\"macro\"))\n",
        "tneg,fpos,fneg,tpos=confusion_matrix(y_labels,y_pred).ravel()\n",
        "print(\"tneg:{},fpos:{},fneg:{},tpos:{}\".format(tneg,fpos,fneg,tpos))\n",
        "Senstivity=tpos/(tpos+fneg)\n",
        "print(\"senstivity:{}\".format(Senstivity))"
      ],
      "execution_count": 253,
      "outputs": [
        {
          "output_type": "stream",
          "text": [
            "prediciton accuracy: 0.9636363636363636\n",
            "f1_Score: 0.9315163254012175\n",
            "precision_score: 0.933213536987122\n",
            "recall_score: 0.9298403524562983\n",
            "tneg:1088,fpos:23,fneg:25,tpos:184\n",
            "senstivity:0.8803827751196173\n"
          ],
          "name": "stdout"
        }
      ]
    },
    {
      "cell_type": "code",
      "metadata": {
        "id": "PZgP5GUbuWM_",
        "colab_type": "code",
        "colab": {
          "base_uri": "https://localhost:8080/",
          "height": 36
        },
        "outputId": "a1317999-9b98-4b6a-e6b1-34d5f864d3e4"
      },
      "source": [
        "model_json = model.to_json()\n",
        "with open(\"model.json\", \"w\") as json_file:\n",
        "    json_file.write(model_json)\n",
        "# serialize weights to HDF5\n",
        "model.save_weights(\"model.h5\")\n",
        "print(\"Saved model to disk\")\n"
      ],
      "execution_count": 254,
      "outputs": [
        {
          "output_type": "stream",
          "text": [
            "Saved model to disk\n"
          ],
          "name": "stdout"
        }
      ]
    },
    {
      "cell_type": "code",
      "metadata": {
        "id": "3jmiyAhC_D1W",
        "colab_type": "code",
        "colab": {}
      },
      "source": [
        ""
      ],
      "execution_count": 0,
      "outputs": []
    }
  ]
}